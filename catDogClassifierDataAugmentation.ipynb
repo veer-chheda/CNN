{
  "nbformat": 4,
  "nbformat_minor": 0,
  "metadata": {
    "colab": {
      "provenance": [],
      "gpuType": "T4"
    },
    "kernelspec": {
      "name": "python3",
      "display_name": "Python 3"
    },
    "language_info": {
      "name": "python"
    },
    "accelerator": "GPU"
  },
  "cells": [
    {
      "cell_type": "code",
      "execution_count": 1,
      "metadata": {
        "id": "-VmS75-_WITF"
      },
      "outputs": [],
      "source": [
        "!mkdir -p ~/.kaggle\n",
        "!cp kaggle.json ~/.kaggle/"
      ]
    },
    {
      "cell_type": "code",
      "source": [
        "!kaggle datasets download -d salader/dogs-vs-cats"
      ],
      "metadata": {
        "colab": {
          "base_uri": "https://localhost:8080/"
        },
        "id": "V4bTGYIrWZsR",
        "outputId": "53609667-fc1c-41ab-e959-65e27d4fa2c3"
      },
      "execution_count": 2,
      "outputs": [
        {
          "output_type": "stream",
          "name": "stdout",
          "text": [
            "Warning: Your Kaggle API key is readable by other users on this system! To fix this, you can run 'chmod 600 /root/.kaggle/kaggle.json'\n",
            "Downloading dogs-vs-cats.zip to /content\n",
            "100% 1.06G/1.06G [00:37<00:00, 33.0MB/s]\n",
            "100% 1.06G/1.06G [00:37<00:00, 30.6MB/s]\n"
          ]
        }
      ]
    },
    {
      "cell_type": "code",
      "source": [
        "import zipfile\n",
        "zip_ref = zipfile.ZipFile('/content/dogs-vs-cats.zip', 'r')\n",
        "zip_ref.extractall('/content')\n",
        "zip_ref.close()"
      ],
      "metadata": {
        "id": "pBiusQLdWc1Z"
      },
      "execution_count": 3,
      "outputs": []
    },
    {
      "cell_type": "code",
      "source": [
        "import tensorflow\n",
        "from tensorflow import keras\n",
        "from keras import Sequential\n",
        "from keras.layers import Dense,Flatten,Dropout\n",
        "from keras.applications.vgg16 import VGG16"
      ],
      "metadata": {
        "id": "F3T2PWpSWhNA"
      },
      "execution_count": 8,
      "outputs": []
    },
    {
      "cell_type": "code",
      "source": [
        "conv_base = VGG16(\n",
        "    weights='imagenet',\n",
        "    include_top = False,\n",
        "    input_shape=(256,256,3)\n",
        ")"
      ],
      "metadata": {
        "id": "SAzWn-kaWjzg"
      },
      "execution_count": 17,
      "outputs": []
    },
    {
      "cell_type": "code",
      "source": [
        "model = Sequential()\n",
        "\n",
        "model.add(conv_base)\n",
        "model.add(Flatten())\n",
        "model.add(Dense(256,activation='relu'))\n",
        "model.add(Dropout(0.2))\n",
        "model.add(Dense(128,activation='relu'))\n",
        "model.add(Dropout(0.2))\n",
        "model.add(Dense(64,activation='relu'))\n",
        "model.add(Dropout(0.2))\n",
        "model.add(Dense(32,activation='relu'))\n",
        "model.add(Dense(1,activation='sigmoid'))"
      ],
      "metadata": {
        "id": "E7tu6Vl4WmhF"
      },
      "execution_count": 18,
      "outputs": []
    },
    {
      "cell_type": "code",
      "source": [
        "conv_base.trainable = False"
      ],
      "metadata": {
        "id": "YgUJbE_YWpuD"
      },
      "execution_count": 19,
      "outputs": []
    },
    {
      "cell_type": "code",
      "source": [
        "from keras.preprocessing.image import ImageDataGenerator, array_to_img, img_to_array, load_img"
      ],
      "metadata": {
        "id": "3XRPf-TBW6SY"
      },
      "execution_count": 20,
      "outputs": []
    },
    {
      "cell_type": "markdown",
      "source": [
        "Data Augmentation"
      ],
      "metadata": {
        "id": "eLO1pKe4GudS"
      }
    },
    {
      "cell_type": "code",
      "source": [
        "batch_size = 32\n",
        "\n",
        "train_datagen = ImageDataGenerator(\n",
        "        rescale=1./255,\n",
        "        shear_range=0.2,\n",
        "        zoom_range=0.2,\n",
        "        horizontal_flip=True)\n",
        "\n",
        "test_datagen = ImageDataGenerator(rescale=1./255)\n",
        "\n",
        "train_generator = train_datagen.flow_from_directory(\n",
        "        '/content/train',\n",
        "        target_size=(256,256),\n",
        "        batch_size=batch_size,\n",
        "        class_mode='binary')\n",
        "\n",
        "validation_generator = test_datagen.flow_from_directory(\n",
        "        '/content/test',\n",
        "        target_size=(256,256),\n",
        "        batch_size=batch_size,\n",
        "        class_mode='binary')"
      ],
      "metadata": {
        "colab": {
          "base_uri": "https://localhost:8080/"
        },
        "id": "YKsNsIeDWsKF",
        "outputId": "2bd69035-f70f-4941-87a1-40b66eb79e59"
      },
      "execution_count": 21,
      "outputs": [
        {
          "output_type": "stream",
          "name": "stdout",
          "text": [
            "Found 20000 images belonging to 2 classes.\n",
            "Found 5000 images belonging to 2 classes.\n"
          ]
        }
      ]
    },
    {
      "cell_type": "code",
      "source": [
        "model.compile(optimizer='adam',loss='binary_crossentropy',metrics=['accuracy'])"
      ],
      "metadata": {
        "id": "hiMjQzqGXRQn"
      },
      "execution_count": 22,
      "outputs": []
    },
    {
      "cell_type": "code",
      "source": [
        "model.summary()"
      ],
      "metadata": {
        "colab": {
          "base_uri": "https://localhost:8080/"
        },
        "id": "pNVs1BPDGsme",
        "outputId": "c2b5cc31-7289-49b0-c76f-74baede41197"
      },
      "execution_count": 23,
      "outputs": [
        {
          "output_type": "stream",
          "name": "stdout",
          "text": [
            "Model: \"sequential_1\"\n",
            "_________________________________________________________________\n",
            " Layer (type)                Output Shape              Param #   \n",
            "=================================================================\n",
            " vgg16 (Functional)          (None, 8, 8, 512)         14714688  \n",
            "                                                                 \n",
            " flatten_1 (Flatten)         (None, 32768)             0         \n",
            "                                                                 \n",
            " dense_5 (Dense)             (None, 256)               8388864   \n",
            "                                                                 \n",
            " dropout_3 (Dropout)         (None, 256)               0         \n",
            "                                                                 \n",
            " dense_6 (Dense)             (None, 128)               32896     \n",
            "                                                                 \n",
            " dropout_4 (Dropout)         (None, 128)               0         \n",
            "                                                                 \n",
            " dense_7 (Dense)             (None, 64)                8256      \n",
            "                                                                 \n",
            " dropout_5 (Dropout)         (None, 64)                0         \n",
            "                                                                 \n",
            " dense_8 (Dense)             (None, 32)                2080      \n",
            "                                                                 \n",
            " dense_9 (Dense)             (None, 1)                 33        \n",
            "                                                                 \n",
            "=================================================================\n",
            "Total params: 23146817 (88.30 MB)\n",
            "Trainable params: 8432129 (32.17 MB)\n",
            "Non-trainable params: 14714688 (56.13 MB)\n",
            "_________________________________________________________________\n"
          ]
        }
      ]
    },
    {
      "cell_type": "code",
      "source": [
        "history = model.fit(\n",
        "        train_generator,\n",
        "        epochs=15,\n",
        "        validation_data=validation_generator)"
      ],
      "metadata": {
        "colab": {
          "base_uri": "https://localhost:8080/"
        },
        "id": "e9CusZ16XYU7",
        "outputId": "f2690a55-c028-444f-dacd-ef9d1368afb0"
      },
      "execution_count": 24,
      "outputs": [
        {
          "output_type": "stream",
          "name": "stdout",
          "text": [
            "Epoch 1/15\n",
            "625/625 [==============================] - 375s 590ms/step - loss: 0.3317 - accuracy: 0.8538 - val_loss: 0.1671 - val_accuracy: 0.9278\n",
            "Epoch 2/15\n",
            "625/625 [==============================] - 353s 565ms/step - loss: 0.2202 - accuracy: 0.9079 - val_loss: 0.1481 - val_accuracy: 0.9382\n",
            "Epoch 3/15\n",
            "625/625 [==============================] - 354s 567ms/step - loss: 0.1847 - accuracy: 0.9244 - val_loss: 0.1501 - val_accuracy: 0.9348\n",
            "Epoch 4/15\n",
            "625/625 [==============================] - 352s 562ms/step - loss: 0.1778 - accuracy: 0.9284 - val_loss: 0.1456 - val_accuracy: 0.9356\n",
            "Epoch 5/15\n",
            "625/625 [==============================] - 369s 591ms/step - loss: 0.1676 - accuracy: 0.9290 - val_loss: 0.1801 - val_accuracy: 0.9262\n",
            "Epoch 6/15\n",
            "625/625 [==============================] - 349s 559ms/step - loss: 0.1673 - accuracy: 0.9320 - val_loss: 0.1421 - val_accuracy: 0.9368\n",
            "Epoch 7/15\n",
            "625/625 [==============================] - 349s 558ms/step - loss: 0.1545 - accuracy: 0.9377 - val_loss: 0.1397 - val_accuracy: 0.9402\n",
            "Epoch 8/15\n",
            "625/625 [==============================] - 349s 558ms/step - loss: 0.1472 - accuracy: 0.9402 - val_loss: 0.1281 - val_accuracy: 0.9456\n",
            "Epoch 9/15\n",
            "625/625 [==============================] - 366s 586ms/step - loss: 0.1416 - accuracy: 0.9420 - val_loss: 0.1349 - val_accuracy: 0.9444\n",
            "Epoch 10/15\n",
            "625/625 [==============================] - 350s 559ms/step - loss: 0.1361 - accuracy: 0.9432 - val_loss: 0.1299 - val_accuracy: 0.9476\n",
            "Epoch 11/15\n",
            "625/625 [==============================] - 348s 557ms/step - loss: 0.1346 - accuracy: 0.9454 - val_loss: 0.1296 - val_accuracy: 0.9444\n",
            "Epoch 12/15\n",
            "625/625 [==============================] - 350s 559ms/step - loss: 0.1313 - accuracy: 0.9460 - val_loss: 0.1289 - val_accuracy: 0.9416\n",
            "Epoch 13/15\n",
            "625/625 [==============================] - 354s 567ms/step - loss: 0.1263 - accuracy: 0.9481 - val_loss: 0.1417 - val_accuracy: 0.9336\n",
            "Epoch 14/15\n",
            "625/625 [==============================] - 348s 557ms/step - loss: 0.1231 - accuracy: 0.9496 - val_loss: 0.1339 - val_accuracy: 0.9424\n",
            "Epoch 15/15\n",
            "625/625 [==============================] - 349s 558ms/step - loss: 0.1190 - accuracy: 0.9516 - val_loss: 0.1380 - val_accuracy: 0.9396\n"
          ]
        }
      ]
    },
    {
      "cell_type": "code",
      "source": [
        "import matplotlib.pyplot as plt\n",
        "\n",
        "plt.plot(history.history['accuracy'],color='red',label='train')\n",
        "plt.plot(history.history['val_accuracy'],color='blue',label='validation')\n",
        "plt.legend()\n",
        "plt.show()"
      ],
      "metadata": {
        "colab": {
          "base_uri": "https://localhost:8080/",
          "height": 430
        },
        "id": "oMHg3DYgXiSf",
        "outputId": "09c9997a-290e-4ff9-c4f2-0fcda3d96c1a"
      },
      "execution_count": 25,
      "outputs": [
        {
          "output_type": "display_data",
          "data": {
            "text/plain": [
              "<Figure size 640x480 with 1 Axes>"
            ],
            "image/png": "[encoded data removed]"
          },
          "metadata": {}
        }
      ]
    },
    {
      "cell_type": "code",
      "source": [
        "plt.plot(history.history['loss'],color='red',label='train')\n",
        "plt.plot(history.history['val_loss'],color='blue',label='validation')\n",
        "plt.legend()\n",
        "plt.show()"
      ],
      "metadata": {
        "colab": {
          "base_uri": "https://localhost:8080/",
          "height": 430
        },
        "id": "m33v_tHcl32u",
        "outputId": "d20b058e-e6ce-46c9-fc3f-510f7818f58d"
      },
      "execution_count": 26,
      "outputs": [
        {
          "output_type": "display_data",
          "data": {
            "text/plain": [
              "<Figure size 640x480 with 1 Axes>"
            ],
            "image/png": "[encoded data removed]"
          },
          "metadata": {}
        }
      ]
    },
    {
      "cell_type": "code",
      "source": [],
      "metadata": {
        "id": "ZlcpKlCWl84g"
      },
      "execution_count": null,
      "outputs": []
    }
  ]
}