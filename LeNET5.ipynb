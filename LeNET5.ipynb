{
  "nbformat": 4,
  "nbformat_minor": 0,
  "metadata": {
    "colab": {
      "provenance": []
    },
    "kernelspec": {
      "name": "python3",
      "display_name": "Python 3"
    },
    "language_info": {
      "name": "python"
    }
  },
  "cells": [
    {
      "cell_type": "code",
      "execution_count": 30,
      "metadata": {
        "id": "sE1BDKj5fT84"
      },
      "outputs": [],
      "source": [
        "import numpy as np\n",
        "import pandas as pd\n",
        "import matplotlib.pyplot as plt\n",
        "import tensorflow\n",
        "from tensorflow import keras\n",
        "from keras import Sequential\n",
        "from keras.layers import Dense, Conv2D, Flatten, AveragePooling2D"
      ]
    },
    {
      "cell_type": "code",
      "source": [
        "from keras.datasets import mnist"
      ],
      "metadata": {
        "id": "_IOXknOrf1Nr"
      },
      "execution_count": 2,
      "outputs": []
    },
    {
      "cell_type": "code",
      "source": [
        "(X_train, y_train), (X_test, y_test) = mnist.load_data()"
      ],
      "metadata": {
        "colab": {
          "base_uri": "https://localhost:8080/"
        },
        "id": "hIGtMvN3f5Z3",
        "outputId": "1929d52a-78fc-4c0b-e8e0-c975e729e614"
      },
      "execution_count": 3,
      "outputs": [
        {
          "output_type": "stream",
          "name": "stdout",
          "text": [
            "Downloading data from https://storage.googleapis.com/tensorflow/tf-keras-datasets/mnist.npz\n",
            "11490434/11490434 [==============================] - 0s 0us/step\n"
          ]
        }
      ]
    },
    {
      "cell_type": "code",
      "source": [
        "X_train.shape"
      ],
      "metadata": {
        "colab": {
          "base_uri": "https://localhost:8080/"
        },
        "id": "k8b4fQeRhngL",
        "outputId": "24d1a02d-67a1-457f-90b6-f05d2b1ec2a2"
      },
      "execution_count": 8,
      "outputs": [
        {
          "output_type": "execute_result",
          "data": {
            "text/plain": [
              "(60000, 28, 28)"
            ]
          },
          "metadata": {},
          "execution_count": 8
        }
      ]
    },
    {
      "cell_type": "code",
      "source": [
        "X_test.shape"
      ],
      "metadata": {
        "colab": {
          "base_uri": "https://localhost:8080/"
        },
        "id": "10U3ydPLhpYW",
        "outputId": "dca719b5-bbec-403e-8c8b-8ae108e43e05"
      },
      "execution_count": 9,
      "outputs": [
        {
          "output_type": "execute_result",
          "data": {
            "text/plain": [
              "(10000, 28, 28)"
            ]
          },
          "metadata": {},
          "execution_count": 9
        }
      ]
    },
    {
      "cell_type": "code",
      "source": [
        "y_train.shape"
      ],
      "metadata": {
        "colab": {
          "base_uri": "https://localhost:8080/"
        },
        "id": "50-KcF7Shq35",
        "outputId": "cf4c7426-2cf2-486c-dc9f-3d8aa45a6ded"
      },
      "execution_count": 10,
      "outputs": [
        {
          "output_type": "execute_result",
          "data": {
            "text/plain": [
              "(60000,)"
            ]
          },
          "metadata": {},
          "execution_count": 10
        }
      ]
    },
    {
      "cell_type": "code",
      "source": [
        "X_train = X_train/255\n",
        "X_test = X_test/255"
      ],
      "metadata": {
        "id": "xAljrVadhtDD"
      },
      "execution_count": 11,
      "outputs": []
    },
    {
      "cell_type": "code",
      "source": [
        "model = Sequential()\n",
        "model.add(Conv2D(6,kernel_size=(5,5),padding='valid',activation='tanh',input_shape=(28,28,1)))\n",
        "model.add(AveragePooling2D(pool_size=(2,2),strides=2,padding='valid'))\n",
        "\n",
        "model.add(Conv2D(16,kernel_size=(5,5),padding='valid',activation='tanh'))\n",
        "model.add(AveragePooling2D(pool_size=(2,2),strides=2,padding='valid'))\n",
        "\n",
        "model.add(Flatten())\n",
        "\n",
        "model.add(Dense(120,activation='tanh'))\n",
        "model.add(Dense(84,activation='tanh'))\n",
        "model.add(Dense(10,activation='softmax'))"
      ],
      "metadata": {
        "id": "b3E60BrfgBBf"
      },
      "execution_count": 12,
      "outputs": []
    },
    {
      "cell_type": "code",
      "source": [
        "model.summary()"
      ],
      "metadata": {
        "colab": {
          "base_uri": "https://localhost:8080/"
        },
        "id": "ztTCaOg1g1y6",
        "outputId": "bbb5c5f4-8eb3-467e-fc01-56c9618c499b"
      },
      "execution_count": 13,
      "outputs": [
        {
          "output_type": "stream",
          "name": "stdout",
          "text": [
            "Model: \"sequential_1\"\n",
            "_________________________________________________________________\n",
            " Layer (type)                Output Shape              Param #   \n",
            "=================================================================\n",
            " conv2d_2 (Conv2D)           (None, 24, 24, 6)         156       \n",
            "                                                                 \n",
            " average_pooling2d_2 (Avera  (None, 12, 12, 6)         0         \n",
            " gePooling2D)                                                    \n",
            "                                                                 \n",
            " conv2d_3 (Conv2D)           (None, 8, 8, 16)          2416      \n",
            "                                                                 \n",
            " average_pooling2d_3 (Avera  (None, 4, 4, 16)          0         \n",
            " gePooling2D)                                                    \n",
            "                                                                 \n",
            " flatten_1 (Flatten)         (None, 256)               0         \n",
            "                                                                 \n",
            " dense_3 (Dense)             (None, 120)               30840     \n",
            "                                                                 \n",
            " dense_4 (Dense)             (None, 84)                10164     \n",
            "                                                                 \n",
            " dense_5 (Dense)             (None, 10)                850       \n",
            "                                                                 \n",
            "=================================================================\n",
            "Total params: 44426 (173.54 KB)\n",
            "Trainable params: 44426 (173.54 KB)\n",
            "Non-trainable params: 0 (0.00 Byte)\n",
            "_________________________________________________________________\n"
          ]
        }
      ]
    },
    {
      "cell_type": "code",
      "source": [
        "model.compile(optimizer='Adam',loss='sparse_categorical_crossentropy',metrics=['accuracy'])"
      ],
      "metadata": {
        "id": "t9w8F3JAg9CB"
      },
      "execution_count": 14,
      "outputs": []
    },
    {
      "cell_type": "code",
      "source": [
        "history = model.fit(X_train,y_train,epochs=25, validation_data=(X_test,y_test),batch_size=100)"
      ],
      "metadata": {
        "colab": {
          "base_uri": "https://localhost:8080/"
        },
        "id": "N8DFUrNRhRio",
        "outputId": "5a24dd22-d7f5-4fe9-ff4d-0a7384e88a62"
      },
      "execution_count": 24,
      "outputs": [
        {
          "output_type": "stream",
          "name": "stdout",
          "text": [
            "Epoch 1/25\n",
            "600/600 [==============================] - 21s 35ms/step - loss: 7.5104e-04 - accuracy: 0.9999 - val_loss: 0.0536 - val_accuracy: 0.9864\n",
            "Epoch 2/25\n",
            "600/600 [==============================] - 21s 34ms/step - loss: 0.0043 - accuracy: 0.9985 - val_loss: 0.0638 - val_accuracy: 0.9858\n",
            "Epoch 3/25\n",
            "600/600 [==============================] - 21s 35ms/step - loss: 0.0042 - accuracy: 0.9987 - val_loss: 0.0547 - val_accuracy: 0.9867\n",
            "Epoch 4/25\n",
            "600/600 [==============================] - 21s 35ms/step - loss: 0.0026 - accuracy: 0.9992 - val_loss: 0.0618 - val_accuracy: 0.9851\n",
            "Epoch 5/25\n",
            "600/600 [==============================] - 23s 39ms/step - loss: 0.0020 - accuracy: 0.9994 - val_loss: 0.0632 - val_accuracy: 0.9865\n",
            "Epoch 6/25\n",
            "600/600 [==============================] - 20s 33ms/step - loss: 0.0034 - accuracy: 0.9990 - val_loss: 0.0658 - val_accuracy: 0.9858\n",
            "Epoch 7/25\n",
            "600/600 [==============================] - 22s 36ms/step - loss: 0.0030 - accuracy: 0.9992 - val_loss: 0.0612 - val_accuracy: 0.9865\n",
            "Epoch 8/25\n",
            "600/600 [==============================] - 21s 35ms/step - loss: 0.0025 - accuracy: 0.9992 - val_loss: 0.0651 - val_accuracy: 0.9849\n",
            "Epoch 9/25\n",
            "600/600 [==============================] - 20s 34ms/step - loss: 0.0040 - accuracy: 0.9987 - val_loss: 0.0582 - val_accuracy: 0.9876\n",
            "Epoch 10/25\n",
            "600/600 [==============================] - 22s 37ms/step - loss: 0.0026 - accuracy: 0.9992 - val_loss: 0.0551 - val_accuracy: 0.9872\n",
            "Epoch 11/25\n",
            "600/600 [==============================] - 21s 35ms/step - loss: 0.0030 - accuracy: 0.9990 - val_loss: 0.0619 - val_accuracy: 0.9857\n",
            "Epoch 12/25\n",
            "600/600 [==============================] - 20s 33ms/step - loss: 0.0017 - accuracy: 0.9995 - val_loss: 0.0605 - val_accuracy: 0.9869\n",
            "Epoch 13/25\n",
            "600/600 [==============================] - 21s 35ms/step - loss: 4.7764e-04 - accuracy: 0.9999 - val_loss: 0.0531 - val_accuracy: 0.9874\n",
            "Epoch 14/25\n",
            "600/600 [==============================] - 21s 35ms/step - loss: 6.2155e-04 - accuracy: 0.9999 - val_loss: 0.0575 - val_accuracy: 0.9876\n",
            "Epoch 15/25\n",
            "600/600 [==============================] - 20s 33ms/step - loss: 0.0095 - accuracy: 0.9973 - val_loss: 0.0633 - val_accuracy: 0.9854\n",
            "Epoch 16/25\n",
            "600/600 [==============================] - 22s 37ms/step - loss: 0.0016 - accuracy: 0.9996 - val_loss: 0.0532 - val_accuracy: 0.9870\n",
            "Epoch 17/25\n",
            "600/600 [==============================] - 21s 35ms/step - loss: 0.0010 - accuracy: 0.9997 - val_loss: 0.0566 - val_accuracy: 0.9873\n",
            "Epoch 18/25\n",
            "600/600 [==============================] - 20s 33ms/step - loss: 0.0010 - accuracy: 0.9998 - val_loss: 0.0592 - val_accuracy: 0.9877\n",
            "Epoch 19/25\n",
            "600/600 [==============================] - 21s 35ms/step - loss: 0.0036 - accuracy: 0.9990 - val_loss: 0.0675 - val_accuracy: 0.9855\n",
            "Epoch 20/25\n",
            "600/600 [==============================] - 21s 36ms/step - loss: 0.0045 - accuracy: 0.9986 - val_loss: 0.0634 - val_accuracy: 0.9870\n",
            "Epoch 21/25\n",
            "600/600 [==============================] - 20s 33ms/step - loss: 0.0011 - accuracy: 0.9997 - val_loss: 0.0603 - val_accuracy: 0.9872\n",
            "Epoch 22/25\n",
            "600/600 [==============================] - 21s 35ms/step - loss: 0.0011 - accuracy: 0.9997 - val_loss: 0.0592 - val_accuracy: 0.9874\n",
            "Epoch 23/25\n",
            "600/600 [==============================] - 22s 36ms/step - loss: 7.3355e-04 - accuracy: 0.9998 - val_loss: 0.0607 - val_accuracy: 0.9876\n",
            "Epoch 24/25\n",
            "600/600 [==============================] - 20s 33ms/step - loss: 0.0036 - accuracy: 0.9989 - val_loss: 0.0773 - val_accuracy: 0.9845\n",
            "Epoch 25/25\n",
            "600/600 [==============================] - 21s 35ms/step - loss: 0.0047 - accuracy: 0.9984 - val_loss: 0.0666 - val_accuracy: 0.9851\n"
          ]
        }
      ]
    },
    {
      "cell_type": "code",
      "source": [
        "y_prob = model.predict(X_test)"
      ],
      "metadata": {
        "colab": {
          "base_uri": "https://localhost:8080/"
        },
        "id": "4X16iMIZjdUL",
        "outputId": "2f4a3324-ff84-40ca-f9df-b33ea76d6530"
      },
      "execution_count": 25,
      "outputs": [
        {
          "output_type": "stream",
          "name": "stdout",
          "text": [
            "313/313 [==============================] - 2s 5ms/step\n"
          ]
        }
      ]
    },
    {
      "cell_type": "code",
      "source": [
        "y_pred = y_prob.argmax(axis=1)\n",
        "y_pred"
      ],
      "metadata": {
        "colab": {
          "base_uri": "https://localhost:8080/"
        },
        "id": "YejxoCvDjd7i",
        "outputId": "f3b582b8-84ff-46b9-e304-c3d1c15249cf"
      },
      "execution_count": 26,
      "outputs": [
        {
          "output_type": "execute_result",
          "data": {
            "text/plain": [
              "array([7, 2, 1, ..., 4, 5, 6])"
            ]
          },
          "metadata": {},
          "execution_count": 26
        }
      ]
    },
    {
      "cell_type": "code",
      "source": [
        "from sklearn.metrics import accuracy_score, confusion_matrix, f1_score"
      ],
      "metadata": {
        "id": "6-q56I-lje_3"
      },
      "execution_count": 27,
      "outputs": []
    },
    {
      "cell_type": "code",
      "source": [
        "print(accuracy_score(y_test,y_pred))\n",
        "print(confusion_matrix(y_test,y_pred))"
      ],
      "metadata": {
        "colab": {
          "base_uri": "https://localhost:8080/"
        },
        "id": "VQ0cxsR2jgc-",
        "outputId": "a29bc1d7-9ace-4e0f-a8ed-910b7ac57cb4"
      },
      "execution_count": 22,
      "outputs": [
        {
          "output_type": "stream",
          "name": "stdout",
          "text": [
            "0.987\n",
            "[[ 977    1    0    0    0    0    1    1    0    0]\n",
            " [   0 1127    0    1    1    2    2    0    2    0]\n",
            " [   1    1 1021    3    2    0    1    1    2    0]\n",
            " [   1    0    0 1003    0    1    0    1    4    0]\n",
            " [   0    0    0    0  965    0    5    1    2    9]\n",
            " [   1    0    0    9    0  869    2    1    6    4]\n",
            " [   5    2    1    2    2    2  941    0    3    0]\n",
            " [   0    2    6    4    0    0    0 1014    0    2]\n",
            " [   1    1    3    2    0    0    0    2  961    4]\n",
            " [   1    2    0    3    3    1    0    4    3  992]]\n"
          ]
        }
      ]
    },
    {
      "cell_type": "code",
      "source": [
        "plt.plot(history.history['loss'])\n",
        "plt.plot(history.history['val_loss'])"
      ],
      "metadata": {
        "colab": {
          "base_uri": "https://localhost:8080/",
          "height": 449
        },
        "id": "8JlksyLijhos",
        "outputId": "c39d0948-f36e-45ef-8ec7-f7d3c025aa94"
      },
      "execution_count": 31,
      "outputs": [
        {
          "output_type": "execute_result",
          "data": {
            "text/plain": [
              "[<matplotlib.lines.Line2D at 0x7bdfb2a7f070>]"
            ]
          },
          "metadata": {},
          "execution_count": 31
        },
        {
          "output_type": "display_data",
          "data": {
            "text/plain": [
              "<Figure size 640x480 with 1 Axes>"
            ],
            "image/png": "[encoded data removed]"
          },
          "metadata": {}
        }
      ]
    },
    {
      "cell_type": "code",
      "source": [
        "plt.plot(history.history['accuracy'])\n",
        "plt.plot(history.history['val_accuracy'])"
      ],
      "metadata": {
        "colab": {
          "base_uri": "https://localhost:8080/",
          "height": 448
        },
        "id": "4Rvemjm7jjGb",
        "outputId": "d5f420e2-05d7-41bd-bd77-a3e3b8d2d23a"
      },
      "execution_count": 32,
      "outputs": [
        {
          "output_type": "execute_result",
          "data": {
            "text/plain": [
              "[<matplotlib.lines.Line2D at 0x7bdfb3aa00a0>]"
            ]
          },
          "metadata": {},
          "execution_count": 32
        },
        {
          "output_type": "display_data",
          "data": {
            "text/plain": [
              "<Figure size 640x480 with 1 Axes>"
            ],
            "image/png": "[encoded data removed]"
          },
          "metadata": {}
        }
      ]
    },
    {
      "cell_type": "code",
      "source": [],
      "metadata": {
        "id": "crNSLWCXjkef"
      },
      "execution_count": null,
      "outputs": []
    }
  ]
}